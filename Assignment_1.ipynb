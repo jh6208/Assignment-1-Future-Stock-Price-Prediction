{
 "cells": [
  {
   "cell_type": "markdown",
   "metadata": {},
   "source": [
    "$$\n",
    "\\newcommand{\\x}{\\mathbf{x}}\n",
    "\\newcommand{\\y}{\\mathbf{y}}\n",
    "\\newcommand{\\price}{{p}}\n",
    "\\newcommand{\\ret}{{r}}\n",
    "\\newcommand{\\tp}{{(t)}}\n",
    "\\newcommand{\\aapl}{{\\text{AAPL}}}\n",
    "\\newcommand{\\ba}{{\\text{BA}}}\n",
    "\\newcommand{\\spy}{{\\text{SPY}}}\n",
    "$$"
   ]
  },
  {
   "cell_type": "markdown",
   "metadata": {},
   "source": [
    "# Assignment: Using Machine Learning for Hedging\n",
    "\n",
    "Welcome to the first assignment.  \n",
    "\n",
    "We will show how Machine Learning can be used in Finance to build multi-asset portfolios that have better risk/return characteristics than a portfolio consisting of a single asset.\n",
    "\n",
    "# Objectives\n",
    "We will be using Linear Regression to establish the relationship between the returns of individual equities and \"the market\".\n",
    "\n",
    "The purpose of the assignment is two-fold\n",
    "- to get you up to spped with Machine Learning in general, and `sklearn` in particular\n",
    "- to get you up to speed with the other programming tools (e.g., Pandas) that will help you in data preparation, etc.\n",
    "\n",
    "# How to report your answers\n",
    "I will mix explanation of the topic with tasks that you must complete. Look for \n",
    "the string \"**Queston**\" to find a task that you must perform.\n",
    "Most of the tasks will require you to assign values to variables and execute a `print` statement.\n",
    "\n",
    "**Motivation**\n",
    "\n",
    "If you *do not change* the print statement then the GA (or a machine) can automatically find your answer to each part by searching for the string.\n"
   ]
  },
  {
   "cell_type": "markdown",
   "metadata": {},
   "source": [
    "# The data\n",
    "\n",
    "The data are the daily prices of a number of individual equities and equity indices.\n",
    "The prices are arranged in a series in ascending date order (a timeseries).\n",
    "- There is a separate `.csv` file for each equity or index in the directory `data/assignment_1`\n",
    "\n",
    "## Reading the data\n",
    "\n",
    "You should get the price data into some sort of data structure.  Pandas DataFrame is super useful\n",
    "so I recommend that's what you use (not required though).\n",
    "\n",
    "**Hints**: \n",
    "- look up the Pandas `read_csv` method\n",
    "- it will be very convenient to use dates as the index of your DataFrame\n",
    "\n",
    "## Preliminary data preparation\n",
    "\n",
    "In the rest of the assignment we will *not* be working with prices but with *returns* (percent change in prices).\n",
    "For example, for ticker $\\aapl$ (Apple)\n",
    "\n",
    "$$\n",
    "\\begin{array}[lll]\\\\\n",
    "\\ret_\\aapl^\\tp = \\frac{\\price _\\aapl^\\tp}{\\price _\\aapl^{(t-1)}} -1 \\\\\n",
    "\\text{where} \\\\\n",
    "\\price_\\aapl^\\tp \\text{ denotes the price of ticker } \\aapl \\text{ on date } t \\\\\n",
    "\\ret_\\aapl^\\tp \\text{ denotes the return of ticker } \\aapl \\text{ on date } t\n",
    "\\end{array}\n",
    "$$\n",
    "\n",
    "- You will want to convert the price data into return data\n",
    "- We only want the returns for the year 2018; discard any other return\n",
    "\n",
    "**Question**\n",
    "Replace the 0 values in the following cell with your answers, and execute the print statements"
   ]
  },
  {
   "cell_type": "code",
   "execution_count": 1,
   "metadata": {},
   "outputs": [],
   "source": [
    "# Step 1: Import necessary libraries\n",
    "import numpy as np\n",
    "import pandas as pd\n",
    "\n",
    "# Step 2: Create a class named \"ReadData\"\n",
    "class ReadData():\n",
    "    def __init__(self, file_name_csv):\n",
    "        ## Here I just uploaded the data directly into the jupyter notebook directory\n",
    "        self.data = pd.read_csv(file_name_csv)\n",
    "        self.df_index = None\n",
    "    \n",
    "    def returns(self):\n",
    "        self.data['Returns'] = self.data['Close'] / self.data['Close'].shift(1) - 1\n",
    "        return self.data\n",
    "    \n",
    "    def specific_period(self):\n",
    "        ## Particularly select the 2018-year data\n",
    "        for i in range(len(self.data)):\n",
    "            if self.data['Dt'][i][:4] == '2018':\n",
    "                self.df_index = self.data[i:]\n",
    "                break\n",
    "        return self.df_index\n",
    "    "
   ]
  },
  {
   "cell_type": "code",
   "execution_count": 2,
   "metadata": {},
   "outputs": [
    {
     "data": {
      "text/html": [
       "<div>\n",
       "<style scoped>\n",
       "    .dataframe tbody tr th:only-of-type {\n",
       "        vertical-align: middle;\n",
       "    }\n",
       "\n",
       "    .dataframe tbody tr th {\n",
       "        vertical-align: top;\n",
       "    }\n",
       "\n",
       "    .dataframe thead th {\n",
       "        text-align: right;\n",
       "    }\n",
       "</style>\n",
       "<table border=\"1\" class=\"dataframe\">\n",
       "  <thead>\n",
       "    <tr style=\"text-align: right;\">\n",
       "      <th></th>\n",
       "      <th>Dt</th>\n",
       "      <th>Close</th>\n",
       "    </tr>\n",
       "  </thead>\n",
       "  <tbody>\n",
       "    <tr>\n",
       "      <th>0</th>\n",
       "      <td>2017-12-27</td>\n",
       "      <td>170.60</td>\n",
       "    </tr>\n",
       "    <tr>\n",
       "      <th>1</th>\n",
       "      <td>2017-12-28</td>\n",
       "      <td>171.08</td>\n",
       "    </tr>\n",
       "    <tr>\n",
       "      <th>2</th>\n",
       "      <td>2017-12-29</td>\n",
       "      <td>169.23</td>\n",
       "    </tr>\n",
       "    <tr>\n",
       "      <th>3</th>\n",
       "      <td>2018-01-02</td>\n",
       "      <td>172.26</td>\n",
       "    </tr>\n",
       "    <tr>\n",
       "      <th>4</th>\n",
       "      <td>2018-01-03</td>\n",
       "      <td>172.23</td>\n",
       "    </tr>\n",
       "    <tr>\n",
       "      <th>...</th>\n",
       "      <td>...</td>\n",
       "      <td>...</td>\n",
       "    </tr>\n",
       "    <tr>\n",
       "      <th>249</th>\n",
       "      <td>2018-12-24</td>\n",
       "      <td>146.83</td>\n",
       "    </tr>\n",
       "    <tr>\n",
       "      <th>250</th>\n",
       "      <td>2018-12-26</td>\n",
       "      <td>157.17</td>\n",
       "    </tr>\n",
       "    <tr>\n",
       "      <th>251</th>\n",
       "      <td>2018-12-27</td>\n",
       "      <td>156.15</td>\n",
       "    </tr>\n",
       "    <tr>\n",
       "      <th>252</th>\n",
       "      <td>2018-12-28</td>\n",
       "      <td>156.23</td>\n",
       "    </tr>\n",
       "    <tr>\n",
       "      <th>253</th>\n",
       "      <td>2018-12-31</td>\n",
       "      <td>157.74</td>\n",
       "    </tr>\n",
       "  </tbody>\n",
       "</table>\n",
       "<p>254 rows × 2 columns</p>\n",
       "</div>"
      ],
      "text/plain": [
       "             Dt   Close\n",
       "0    2017-12-27  170.60\n",
       "1    2017-12-28  171.08\n",
       "2    2017-12-29  169.23\n",
       "3    2018-01-02  172.26\n",
       "4    2018-01-03  172.23\n",
       "..          ...     ...\n",
       "249  2018-12-24  146.83\n",
       "250  2018-12-26  157.17\n",
       "251  2018-12-27  156.15\n",
       "252  2018-12-28  156.23\n",
       "253  2018-12-31  157.74\n",
       "\n",
       "[254 rows x 2 columns]"
      ]
     },
     "execution_count": 2,
     "metadata": {},
     "output_type": "execute_result"
    }
   ],
   "source": [
    "# Step 3: Check out all of these methods and attributes inside the class \"ReadData\" to make sure they work correctly\n",
    "# Also, in the meanwhile, assign different variable names to each target we want\n",
    "AAPL = ReadData('AAPL.csv')\n",
    "\n",
    "AAPL.data"
   ]
  },
  {
   "cell_type": "code",
   "execution_count": 3,
   "metadata": {},
   "outputs": [
    {
     "data": {
      "text/html": [
       "<div>\n",
       "<style scoped>\n",
       "    .dataframe tbody tr th:only-of-type {\n",
       "        vertical-align: middle;\n",
       "    }\n",
       "\n",
       "    .dataframe tbody tr th {\n",
       "        vertical-align: top;\n",
       "    }\n",
       "\n",
       "    .dataframe thead th {\n",
       "        text-align: right;\n",
       "    }\n",
       "</style>\n",
       "<table border=\"1\" class=\"dataframe\">\n",
       "  <thead>\n",
       "    <tr style=\"text-align: right;\">\n",
       "      <th></th>\n",
       "      <th>Dt</th>\n",
       "      <th>Close</th>\n",
       "      <th>Returns</th>\n",
       "    </tr>\n",
       "  </thead>\n",
       "  <tbody>\n",
       "    <tr>\n",
       "      <th>0</th>\n",
       "      <td>2017-12-27</td>\n",
       "      <td>170.60</td>\n",
       "      <td>NaN</td>\n",
       "    </tr>\n",
       "    <tr>\n",
       "      <th>1</th>\n",
       "      <td>2017-12-28</td>\n",
       "      <td>171.08</td>\n",
       "      <td>0.002814</td>\n",
       "    </tr>\n",
       "    <tr>\n",
       "      <th>2</th>\n",
       "      <td>2017-12-29</td>\n",
       "      <td>169.23</td>\n",
       "      <td>-0.010814</td>\n",
       "    </tr>\n",
       "    <tr>\n",
       "      <th>3</th>\n",
       "      <td>2018-01-02</td>\n",
       "      <td>172.26</td>\n",
       "      <td>0.017905</td>\n",
       "    </tr>\n",
       "    <tr>\n",
       "      <th>4</th>\n",
       "      <td>2018-01-03</td>\n",
       "      <td>172.23</td>\n",
       "      <td>-0.000174</td>\n",
       "    </tr>\n",
       "    <tr>\n",
       "      <th>...</th>\n",
       "      <td>...</td>\n",
       "      <td>...</td>\n",
       "      <td>...</td>\n",
       "    </tr>\n",
       "    <tr>\n",
       "      <th>249</th>\n",
       "      <td>2018-12-24</td>\n",
       "      <td>146.83</td>\n",
       "      <td>-0.025874</td>\n",
       "    </tr>\n",
       "    <tr>\n",
       "      <th>250</th>\n",
       "      <td>2018-12-26</td>\n",
       "      <td>157.17</td>\n",
       "      <td>0.070422</td>\n",
       "    </tr>\n",
       "    <tr>\n",
       "      <th>251</th>\n",
       "      <td>2018-12-27</td>\n",
       "      <td>156.15</td>\n",
       "      <td>-0.006490</td>\n",
       "    </tr>\n",
       "    <tr>\n",
       "      <th>252</th>\n",
       "      <td>2018-12-28</td>\n",
       "      <td>156.23</td>\n",
       "      <td>0.000512</td>\n",
       "    </tr>\n",
       "    <tr>\n",
       "      <th>253</th>\n",
       "      <td>2018-12-31</td>\n",
       "      <td>157.74</td>\n",
       "      <td>0.009665</td>\n",
       "    </tr>\n",
       "  </tbody>\n",
       "</table>\n",
       "<p>254 rows × 3 columns</p>\n",
       "</div>"
      ],
      "text/plain": [
       "             Dt   Close   Returns\n",
       "0    2017-12-27  170.60       NaN\n",
       "1    2017-12-28  171.08  0.002814\n",
       "2    2017-12-29  169.23 -0.010814\n",
       "3    2018-01-02  172.26  0.017905\n",
       "4    2018-01-03  172.23 -0.000174\n",
       "..          ...     ...       ...\n",
       "249  2018-12-24  146.83 -0.025874\n",
       "250  2018-12-26  157.17  0.070422\n",
       "251  2018-12-27  156.15 -0.006490\n",
       "252  2018-12-28  156.23  0.000512\n",
       "253  2018-12-31  157.74  0.009665\n",
       "\n",
       "[254 rows x 3 columns]"
      ]
     },
     "execution_count": 3,
     "metadata": {},
     "output_type": "execute_result"
    }
   ],
   "source": [
    "apple_returns = AAPL.returns()\n",
    "apple_returns"
   ]
  },
  {
   "cell_type": "code",
   "execution_count": 4,
   "metadata": {},
   "outputs": [
    {
     "data": {
      "text/html": [
       "<div>\n",
       "<style scoped>\n",
       "    .dataframe tbody tr th:only-of-type {\n",
       "        vertical-align: middle;\n",
       "    }\n",
       "\n",
       "    .dataframe tbody tr th {\n",
       "        vertical-align: top;\n",
       "    }\n",
       "\n",
       "    .dataframe thead th {\n",
       "        text-align: right;\n",
       "    }\n",
       "</style>\n",
       "<table border=\"1\" class=\"dataframe\">\n",
       "  <thead>\n",
       "    <tr style=\"text-align: right;\">\n",
       "      <th></th>\n",
       "      <th>Dt</th>\n",
       "      <th>Close</th>\n",
       "      <th>Returns</th>\n",
       "    </tr>\n",
       "  </thead>\n",
       "  <tbody>\n",
       "    <tr>\n",
       "      <th>3</th>\n",
       "      <td>2018-01-02</td>\n",
       "      <td>172.26</td>\n",
       "      <td>0.017905</td>\n",
       "    </tr>\n",
       "    <tr>\n",
       "      <th>4</th>\n",
       "      <td>2018-01-03</td>\n",
       "      <td>172.23</td>\n",
       "      <td>-0.000174</td>\n",
       "    </tr>\n",
       "    <tr>\n",
       "      <th>5</th>\n",
       "      <td>2018-01-04</td>\n",
       "      <td>173.03</td>\n",
       "      <td>0.004645</td>\n",
       "    </tr>\n",
       "    <tr>\n",
       "      <th>6</th>\n",
       "      <td>2018-01-05</td>\n",
       "      <td>175.00</td>\n",
       "      <td>0.011385</td>\n",
       "    </tr>\n",
       "    <tr>\n",
       "      <th>7</th>\n",
       "      <td>2018-01-08</td>\n",
       "      <td>174.35</td>\n",
       "      <td>-0.003714</td>\n",
       "    </tr>\n",
       "    <tr>\n",
       "      <th>...</th>\n",
       "      <td>...</td>\n",
       "      <td>...</td>\n",
       "      <td>...</td>\n",
       "    </tr>\n",
       "    <tr>\n",
       "      <th>249</th>\n",
       "      <td>2018-12-24</td>\n",
       "      <td>146.83</td>\n",
       "      <td>-0.025874</td>\n",
       "    </tr>\n",
       "    <tr>\n",
       "      <th>250</th>\n",
       "      <td>2018-12-26</td>\n",
       "      <td>157.17</td>\n",
       "      <td>0.070422</td>\n",
       "    </tr>\n",
       "    <tr>\n",
       "      <th>251</th>\n",
       "      <td>2018-12-27</td>\n",
       "      <td>156.15</td>\n",
       "      <td>-0.006490</td>\n",
       "    </tr>\n",
       "    <tr>\n",
       "      <th>252</th>\n",
       "      <td>2018-12-28</td>\n",
       "      <td>156.23</td>\n",
       "      <td>0.000512</td>\n",
       "    </tr>\n",
       "    <tr>\n",
       "      <th>253</th>\n",
       "      <td>2018-12-31</td>\n",
       "      <td>157.74</td>\n",
       "      <td>0.009665</td>\n",
       "    </tr>\n",
       "  </tbody>\n",
       "</table>\n",
       "<p>251 rows × 3 columns</p>\n",
       "</div>"
      ],
      "text/plain": [
       "             Dt   Close   Returns\n",
       "3    2018-01-02  172.26  0.017905\n",
       "4    2018-01-03  172.23 -0.000174\n",
       "5    2018-01-04  173.03  0.004645\n",
       "6    2018-01-05  175.00  0.011385\n",
       "7    2018-01-08  174.35 -0.003714\n",
       "..          ...     ...       ...\n",
       "249  2018-12-24  146.83 -0.025874\n",
       "250  2018-12-26  157.17  0.070422\n",
       "251  2018-12-27  156.15 -0.006490\n",
       "252  2018-12-28  156.23  0.000512\n",
       "253  2018-12-31  157.74  0.009665\n",
       "\n",
       "[251 rows x 3 columns]"
      ]
     },
     "execution_count": 4,
     "metadata": {},
     "output_type": "execute_result"
    }
   ],
   "source": [
    "apple_returns_specific = AAPL.specific_period()\n",
    "apple_returns_specific\n"
   ]
  },
  {
   "cell_type": "code",
   "execution_count": 5,
   "metadata": {},
   "outputs": [
    {
     "name": "stdout",
     "output_type": "stream",
     "text": [
      "There are 251 returns. First=0.02, Last=0.01, Avg=-0.00\n"
     ]
    }
   ],
   "source": [
    "# Step 4: Calculate the basic summary statistics of returns in year 2018 for AAPL\n",
    "num_returns =  len(apple_returns_specific) # Number of returns in year 2018\n",
    "first_return = apple_returns_specific.iloc[0]['Returns']\n",
    "last_return  = apple_returns_specific.iloc[-1]['Returns'] # The return on the latest date in 2018\n",
    "avg_return  =  apple_returns_specific['Returns'].mean() # The average return over the  year 2018\n",
    "\n",
    "print(\"There are {num:d} returns. First={first:3.2f}, Last={last:3.2f}, Avg={avg:3.2f}\".format(num=num_returns, first=first_return, last=last_return, avg=avg_return))"
   ]
  },
  {
   "cell_type": "markdown",
   "metadata": {},
   "source": [
    "# Split into Train and Test datasets\n",
    "\n",
    "In general, you will split the data into two sets by choosing the members of each set at random.\n",
    "\n",
    "To facilitate grading for this assignment, we will *use a specific test set*\n",
    "- the training set are the returns for the months of January through September (inclusive), i.e., 9 months\n",
    "- the test set are the returns for the months of October through December (inclusive), i.e., 3 months\n",
    "\n",
    "Thus, you will be using the early part of the data for training, and the latter part of the data for testing.\n",
    "\n",
    "**Question**\n",
    "Replace the 0 values in the following cell with your answers, and execute the print statements"
   ]
  },
  {
   "cell_type": "code",
   "execution_count": 6,
   "metadata": {},
   "outputs": [],
   "source": [
    "# Step 1: Define a class function to split the data\n",
    "class SplitData():\n",
    "    def __init__(self, df):\n",
    "        self.df = df\n",
    "        self.train_set = None\n",
    "        self.test_set = None\n",
    "        \n",
    "    def data_split(self):\n",
    "         ## Split the features into training and test dataset\n",
    "        index1 = 0\n",
    "        for i in range(int(str(self.df['Dt'][0:])[:3]), int(str(self.df['Dt'][-1:])[:3])):\n",
    "            if (int(self.df['Dt'][i][5:7]) == 10):\n",
    "                index1 = i - int(str(self.df['Dt'][0:])[:3])\n",
    "                break\n",
    "                \n",
    "        self.train_set, self.test_set = self.df[:index1], self.df[index1:]    \n",
    "        \n",
    "        return self.train_set, self.test_set\n",
    "    "
   ]
  },
  {
   "cell_type": "code",
   "execution_count": 7,
   "metadata": {},
   "outputs": [
    {
     "data": {
      "text/html": [
       "<div>\n",
       "<style scoped>\n",
       "    .dataframe tbody tr th:only-of-type {\n",
       "        vertical-align: middle;\n",
       "    }\n",
       "\n",
       "    .dataframe tbody tr th {\n",
       "        vertical-align: top;\n",
       "    }\n",
       "\n",
       "    .dataframe thead th {\n",
       "        text-align: right;\n",
       "    }\n",
       "</style>\n",
       "<table border=\"1\" class=\"dataframe\">\n",
       "  <thead>\n",
       "    <tr style=\"text-align: right;\">\n",
       "      <th></th>\n",
       "      <th>Dt</th>\n",
       "      <th>Close</th>\n",
       "      <th>Returns</th>\n",
       "    </tr>\n",
       "  </thead>\n",
       "  <tbody>\n",
       "    <tr>\n",
       "      <th>3</th>\n",
       "      <td>2018-01-02</td>\n",
       "      <td>172.26</td>\n",
       "      <td>0.017905</td>\n",
       "    </tr>\n",
       "    <tr>\n",
       "      <th>4</th>\n",
       "      <td>2018-01-03</td>\n",
       "      <td>172.23</td>\n",
       "      <td>-0.000174</td>\n",
       "    </tr>\n",
       "    <tr>\n",
       "      <th>5</th>\n",
       "      <td>2018-01-04</td>\n",
       "      <td>173.03</td>\n",
       "      <td>0.004645</td>\n",
       "    </tr>\n",
       "    <tr>\n",
       "      <th>6</th>\n",
       "      <td>2018-01-05</td>\n",
       "      <td>175.00</td>\n",
       "      <td>0.011385</td>\n",
       "    </tr>\n",
       "    <tr>\n",
       "      <th>7</th>\n",
       "      <td>2018-01-08</td>\n",
       "      <td>174.35</td>\n",
       "      <td>-0.003714</td>\n",
       "    </tr>\n",
       "    <tr>\n",
       "      <th>...</th>\n",
       "      <td>...</td>\n",
       "      <td>...</td>\n",
       "      <td>...</td>\n",
       "    </tr>\n",
       "    <tr>\n",
       "      <th>186</th>\n",
       "      <td>2018-09-24</td>\n",
       "      <td>220.79</td>\n",
       "      <td>0.014380</td>\n",
       "    </tr>\n",
       "    <tr>\n",
       "      <th>187</th>\n",
       "      <td>2018-09-25</td>\n",
       "      <td>222.19</td>\n",
       "      <td>0.006341</td>\n",
       "    </tr>\n",
       "    <tr>\n",
       "      <th>188</th>\n",
       "      <td>2018-09-26</td>\n",
       "      <td>220.42</td>\n",
       "      <td>-0.007966</td>\n",
       "    </tr>\n",
       "    <tr>\n",
       "      <th>189</th>\n",
       "      <td>2018-09-27</td>\n",
       "      <td>224.95</td>\n",
       "      <td>0.020552</td>\n",
       "    </tr>\n",
       "    <tr>\n",
       "      <th>190</th>\n",
       "      <td>2018-09-28</td>\n",
       "      <td>225.74</td>\n",
       "      <td>0.003512</td>\n",
       "    </tr>\n",
       "  </tbody>\n",
       "</table>\n",
       "<p>188 rows × 3 columns</p>\n",
       "</div>"
      ],
      "text/plain": [
       "             Dt   Close   Returns\n",
       "3    2018-01-02  172.26  0.017905\n",
       "4    2018-01-03  172.23 -0.000174\n",
       "5    2018-01-04  173.03  0.004645\n",
       "6    2018-01-05  175.00  0.011385\n",
       "7    2018-01-08  174.35 -0.003714\n",
       "..          ...     ...       ...\n",
       "186  2018-09-24  220.79  0.014380\n",
       "187  2018-09-25  222.19  0.006341\n",
       "188  2018-09-26  220.42 -0.007966\n",
       "189  2018-09-27  224.95  0.020552\n",
       "190  2018-09-28  225.74  0.003512\n",
       "\n",
       "[188 rows x 3 columns]"
      ]
     },
     "execution_count": 7,
     "metadata": {},
     "output_type": "execute_result"
    }
   ],
   "source": [
    "# Step 2: Check the function performance\n",
    "apple_split = SplitData(apple_returns_specific)\n",
    "train_appl, test_appl = apple_split.data_split()\n",
    "train_appl"
   ]
  },
  {
   "cell_type": "code",
   "execution_count": 8,
   "metadata": {},
   "outputs": [
    {
     "data": {
      "text/html": [
       "<div>\n",
       "<style scoped>\n",
       "    .dataframe tbody tr th:only-of-type {\n",
       "        vertical-align: middle;\n",
       "    }\n",
       "\n",
       "    .dataframe tbody tr th {\n",
       "        vertical-align: top;\n",
       "    }\n",
       "\n",
       "    .dataframe thead th {\n",
       "        text-align: right;\n",
       "    }\n",
       "</style>\n",
       "<table border=\"1\" class=\"dataframe\">\n",
       "  <thead>\n",
       "    <tr style=\"text-align: right;\">\n",
       "      <th></th>\n",
       "      <th>Dt</th>\n",
       "      <th>Close</th>\n",
       "      <th>Returns</th>\n",
       "    </tr>\n",
       "  </thead>\n",
       "  <tbody>\n",
       "    <tr>\n",
       "      <th>191</th>\n",
       "      <td>2018-10-01</td>\n",
       "      <td>227.26</td>\n",
       "      <td>0.006733</td>\n",
       "    </tr>\n",
       "    <tr>\n",
       "      <th>192</th>\n",
       "      <td>2018-10-02</td>\n",
       "      <td>229.28</td>\n",
       "      <td>0.008888</td>\n",
       "    </tr>\n",
       "    <tr>\n",
       "      <th>193</th>\n",
       "      <td>2018-10-03</td>\n",
       "      <td>232.07</td>\n",
       "      <td>0.012169</td>\n",
       "    </tr>\n",
       "    <tr>\n",
       "      <th>194</th>\n",
       "      <td>2018-10-04</td>\n",
       "      <td>227.99</td>\n",
       "      <td>-0.017581</td>\n",
       "    </tr>\n",
       "    <tr>\n",
       "      <th>195</th>\n",
       "      <td>2018-10-05</td>\n",
       "      <td>224.29</td>\n",
       "      <td>-0.016229</td>\n",
       "    </tr>\n",
       "    <tr>\n",
       "      <th>...</th>\n",
       "      <td>...</td>\n",
       "      <td>...</td>\n",
       "      <td>...</td>\n",
       "    </tr>\n",
       "    <tr>\n",
       "      <th>249</th>\n",
       "      <td>2018-12-24</td>\n",
       "      <td>146.83</td>\n",
       "      <td>-0.025874</td>\n",
       "    </tr>\n",
       "    <tr>\n",
       "      <th>250</th>\n",
       "      <td>2018-12-26</td>\n",
       "      <td>157.17</td>\n",
       "      <td>0.070422</td>\n",
       "    </tr>\n",
       "    <tr>\n",
       "      <th>251</th>\n",
       "      <td>2018-12-27</td>\n",
       "      <td>156.15</td>\n",
       "      <td>-0.006490</td>\n",
       "    </tr>\n",
       "    <tr>\n",
       "      <th>252</th>\n",
       "      <td>2018-12-28</td>\n",
       "      <td>156.23</td>\n",
       "      <td>0.000512</td>\n",
       "    </tr>\n",
       "    <tr>\n",
       "      <th>253</th>\n",
       "      <td>2018-12-31</td>\n",
       "      <td>157.74</td>\n",
       "      <td>0.009665</td>\n",
       "    </tr>\n",
       "  </tbody>\n",
       "</table>\n",
       "<p>63 rows × 3 columns</p>\n",
       "</div>"
      ],
      "text/plain": [
       "             Dt   Close   Returns\n",
       "191  2018-10-01  227.26  0.006733\n",
       "192  2018-10-02  229.28  0.008888\n",
       "193  2018-10-03  232.07  0.012169\n",
       "194  2018-10-04  227.99 -0.017581\n",
       "195  2018-10-05  224.29 -0.016229\n",
       "..          ...     ...       ...\n",
       "249  2018-12-24  146.83 -0.025874\n",
       "250  2018-12-26  157.17  0.070422\n",
       "251  2018-12-27  156.15 -0.006490\n",
       "252  2018-12-28  156.23  0.000512\n",
       "253  2018-12-31  157.74  0.009665\n",
       "\n",
       "[63 rows x 3 columns]"
      ]
     },
     "execution_count": 8,
     "metadata": {},
     "output_type": "execute_result"
    }
   ],
   "source": [
    "test_appl"
   ]
  },
  {
   "cell_type": "code",
   "execution_count": 9,
   "metadata": {},
   "outputs": [
    {
     "name": "stdout",
     "output_type": "stream",
     "text": [
      "Training set: There are 188 returns. First=0.02, Last=0.00, Avg=0.00\n",
      "Test set: There are 63 returns. First=0.01, Last=0.01, Avg=-0.01\n"
     ]
    }
   ],
   "source": [
    "# Step 3: Calculate the basic summary statistics of returns in year 2018 for AAPL in train and test dataset\n",
    "train_num_returns = len(train_appl)  # Number of returns in training set\n",
    "train_first_return = train_appl.iloc[0]['Returns'] # The return on the earliest date in training set\n",
    "train_last_return = train_appl.iloc[-1]['Returns'] # The return on the latest date in training set\n",
    "train_avg_return = train_appl['Returns'].mean()  # The average return over the  year training set\n",
    "\n",
    "print(\"Training set: There are {num:d} returns. First={first:3.2f}, Last={last:3.2f}, Avg={avg:3.2f}\".format(num=train_num_returns, \n",
    "                                                                                                             first=train_first_return, \n",
    "                                                                                                             last=train_last_return, \n",
    "                                                                                                             avg=train_avg_return))\n",
    "\n",
    "test_num_returns = len(test_appl)  # Number of returns in test set\n",
    "test_first_return = test_appl.iloc[0]['Returns'] # The return on the earliest date in test set\n",
    "test_last_return  = test_appl.iloc[-1]['Returns'] # The return on the latest date in test set\n",
    "test_avg_return = test_appl['Returns'].mean()  # The average return over the  year test set\n",
    "\n",
    "print(\"Test set: There are {num:d} returns. First={first:3.2f}, Last={last:3.2f}, Avg={avg:3.2f}\".format(num=test_num_returns, \n",
    "                                                                                                         first=test_first_return, \n",
    "                                                                                                         last=test_last_return, \n",
    "                                                                                                         avg=test_avg_return))"
   ]
  },
  {
   "cell_type": "markdown",
   "metadata": {},
   "source": [
    "# $\\aapl$ regression\n",
    "\n",
    "Use Linear Regression to predict the return of a ticker from the return of the $\\spy$ index.\n",
    "For example, for ticker $\\aapl$\n",
    "\n",
    "$$\n",
    "\\ret_\\aapl^\\tp =  \\beta_{\\aapl, \\spy} * \\ret_\\spy^\\tp + \\epsilon_{\\aapl}^\\tp\n",
    "$$\n",
    "\n",
    "That is\n",
    "- each example is a pair consisting of one day's return \n",
    "    - of the ticker (e.g., $\\aapl$).  This is the target (e.g, $\\y$ in our lectures)\n",
    "    - of the index $\\spy$. This is a feature vector of length 1 (e.g., $\\x$ in our lectures)\n",
    "\n",
    "You will use Linear Regression to solve for parameter $\\beta_{\\aapl, \\spy}$ \n",
    "\n",
    "- In the lectures we used the symbol $\\Theta$ to denote the parameter vector; here we use $\\mathbf{\\beta}$\n",
    "- In Finance the symbol $\\beta$ is often used to denote the relationship between returns. \n",
    "- You may should add an \"intercept\" so that the feature vector is length 2 rather than length 1\n",
    "    - $\\x^\\tp = \\begin{pmatrix}\n",
    "        1 \\\\\n",
    "        \\ret_\\spy^\\tp\n",
    "        \\end{pmatrix}$\n"
   ]
  },
  {
   "cell_type": "markdown",
   "metadata": {},
   "source": [
    "\n",
    "\n",
    "- Report the $\\mathbf{\\beta}$ parameter vector you obtain for $\\aapl$\n",
    "    - you will subsequently do this for another ticker in a different part of the assignment\n",
    "        - so think ahead: you may want to parameterize your code\n",
    "        - change the assignment to `ticker` when you report the next part\n",
    "\n",
    "        \n",
    "**Question**\n",
    "Replace the 0 values in the following cell with your answers, and execute the print statements\n"
   ]
  },
  {
   "cell_type": "code",
   "execution_count": 10,
   "metadata": {},
   "outputs": [],
   "source": [
    "# Step 1: Import the SPY dataset\n",
    "SPY = ReadData('SPY.csv')\n",
    "spy_returns = SPY.returns()\n",
    "spy_returns_specific = SPY.specific_period()\n",
    "\n",
    "spy_split = SplitData(spy_returns_specific)\n",
    "train_spy, test_spy = spy_split.data_split()"
   ]
  },
  {
   "cell_type": "code",
   "execution_count": 11,
   "metadata": {},
   "outputs": [],
   "source": [
    "# Step 2: Import the LinearRegressor and define the third class\n",
    "from sklearn.linear_model import LinearRegression\n",
    "from sklearn.model_selection import cross_val_score\n",
    "\n",
    "class LinearRegressor():\n",
    "    def __init__(self, train_features, train_labels):\n",
    "        self.train_features = train_features\n",
    "        self.train_labels = train_labels\n",
    "        self.lin_reg = LinearRegression()\n",
    "        self.beta_0 = None\n",
    "        self.beta_1 = None\n",
    "        self.scores = None\n",
    "        self.scores_mean = None\n",
    "        self.hedged_returns = None\n",
    "        self.r_predicted = None\n",
    "        \n",
    "    def linear_regression(self):\n",
    "        self.lin_reg.fit(self.train_features, self.train_labels)\n",
    "        self.beta_0, self.beta_1 = self.lin_reg.intercept_, self.lin_reg.coef_\n",
    "        return self.beta_0, self.beta_1\n",
    "    \n",
    "    def cross_val(self, n):\n",
    "        self.scores = cross_val_score(self.lin_reg, self.train_features, self.train_labels, cv = n)\n",
    "        self.scores_mean = self.scores.mean()\n",
    "        return self.scores_mean\n",
    "    \n",
    "    def hedged_return(self, test_x, test_y):\n",
    "        self.hedged_returns = np.array([y - self.beta_1*x for (x, y) in zip(test_x, test_y)]) \n",
    "        num_hedge_returns = len(self.hedged_returns)\n",
    "        first_hedge_return = self.hedged_returns[0]\n",
    "        last_hedge_return = self.hedged_returns[-1]\n",
    "        mean_hedge_return = self.hedged_returns.mean()\n",
    "        return num_hedge_returns, first_hedge_return, last_hedge_return, mean_hedge_return\n",
    "    \n",
    "    def predict(self, test_x):\n",
    "        self.r_predicted = self.lin_reg.predict(test_x)\n",
    "        return self.r_predicted\n",
    "    "
   ]
  },
  {
   "cell_type": "code",
   "execution_count": 12,
   "metadata": {},
   "outputs": [],
   "source": [
    "# Step 3: Get our results\n",
    "linear_regressor_1 = LinearRegressor(train_spy[[\"Returns\"]], train_appl[[\"Returns\"]])\n",
    "beta_const1, beta_spy1 = linear_regressor_1.linear_regression()\n",
    "scores_mean1 = linear_regressor_1.cross_val(5)"
   ]
  },
  {
   "cell_type": "code",
   "execution_count": 13,
   "metadata": {},
   "outputs": [
    {
     "name": "stdout",
     "output_type": "stream",
     "text": [
      "AAPL: beta_0=0.00, beta_SPY=1.07\n"
     ]
    }
   ],
   "source": [
    "# Step 3: Report our results\n",
    "beta_0 = float(beta_const1)  # The regression parameter for the constant\n",
    "beta_SPY = float(beta_spy1)  # The regression parameter for the return of SPY\n",
    "ticker = \"AAPL\"\n",
    "\n",
    "print(\"{t:s}: beta_0={b0:3.2f}, beta_SPY={b1:3.2f}\".format(t=ticker, b0=beta_0, b1=beta_SPY))\n"
   ]
  },
  {
   "cell_type": "markdown",
   "metadata": {},
   "source": [
    "- Report the average of the cross validation scores, using 5 fold cross validation\n",
    "\n",
    "**Question**\n",
    "Replace the 0 values in the following cell with your answers, and execute the print statements\n"
   ]
  },
  {
   "cell_type": "code",
   "execution_count": 14,
   "metadata": {},
   "outputs": [
    {
     "name": "stdout",
     "output_type": "stream",
     "text": [
      "AAPL: Avg cross val score = 0.33\n"
     ]
    }
   ],
   "source": [
    "# Step 3: Report our results\n",
    "cross_val_avg = scores_mean1\n",
    "\n",
    "print(\"{t:s}: Avg cross val score = {sc:3.2f}\".format(t=ticker, sc=cross_val_avg) )"
   ]
  },
  {
   "cell_type": "markdown",
   "metadata": {},
   "source": [
    "## $\\aapl$ hedged returns\n",
    "\n",
    "- Compute the series\n",
    "$$\n",
    "{\\ret'}_{\\aapl}^\\tp = \\ret_\\aapl^\\tp - \\beta_{\\aapl, \\spy} * \\ret_\\spy^\\tp\n",
    "$$\n",
    "for all dates $t$ in the test set.  \n",
    "- Sort the dates in ascending order and plot the timeseries ${\\ret}'_{\\aapl}$\n",
    "\n",
    "${\\ret}'_{\\aapl}$ is called the \"hedged return\" of $\\aapl$\n",
    "- It is the daily return you would realize if you created a portfolio that was\n",
    "    - long 1 dollar of $\\aapl$\n",
    "    - short $\\beta_{\\aapl, \\spy}$ dollars of the index $\\spy$\n",
    "- It represents the outperformance of $\\aapl$ relative to the index $\\spy$\n",
    "    - $\\spy$ is the proxy for \"the market\" (it tracks the S&P 500 index)\n",
    "    - The hedged return is the *value added* by going long $\\aapl$ rather than just going \"long the market\"\n",
    "    - Sometimes referred to as the \"alpha\" ($\\alpha_\\aapl$)\n",
    "- So **if** you are able to correctly forecast that $\\aapl$ will have positive outperformance (i.e, have $\\alpha_\\aapl > 0$ most days)\n",
    "    - then you can earn a positive return regardless of whether the market ($\\spy$) goes up or down !\n",
    "    - this is much lower risk than just holding $\\aapl$ long\n",
    "    - people will pay you very well if you can really forecast correctly !\n",
    "\n",
    "**Question**\n",
    "Replace the 0 values in the following cell with your answers, and execute the print statements"
   ]
  },
  {
   "cell_type": "code",
   "execution_count": 15,
   "metadata": {},
   "outputs": [
    {
     "data": {
      "text/plain": [
       "63"
      ]
     },
     "execution_count": 15,
     "metadata": {},
     "output_type": "execute_result"
    }
   ],
   "source": [
    "# Step 1: Calculate the results and Take a look at them:\n",
    "## hedged_num_returns\n",
    "hedge_num_ret1 = linear_regressor_1.hedged_return(test_spy[\"Returns\"], test_appl[\"Returns\"])[0]\n",
    "hedge_num_ret1"
   ]
  },
  {
   "cell_type": "code",
   "execution_count": 16,
   "metadata": {},
   "outputs": [
    {
     "data": {
      "text/plain": [
       "0.003011809642239213"
      ]
     },
     "execution_count": 16,
     "metadata": {},
     "output_type": "execute_result"
    }
   ],
   "source": [
    "## hedged_first_return\n",
    "hedge_first_ret1 = float(linear_regressor_1.hedged_return(test_spy[\"Returns\"], test_appl[\"Returns\"])[1])\n",
    "hedge_first_ret1"
   ]
  },
  {
   "cell_type": "code",
   "execution_count": 17,
   "metadata": {},
   "outputs": [
    {
     "data": {
      "text/plain": [
       "0.00028250420583390487"
      ]
     },
     "execution_count": 17,
     "metadata": {},
     "output_type": "execute_result"
    }
   ],
   "source": [
    "## hedged_last_return\n",
    "hedge_last_ret1 = float(linear_regressor_1.hedged_return(test_spy[\"Returns\"], test_appl[\"Returns\"])[2])\n",
    "hedge_last_ret1"
   ]
  },
  {
   "cell_type": "code",
   "execution_count": 18,
   "metadata": {},
   "outputs": [
    {
     "data": {
      "text/plain": [
       "-0.0029070654490682872"
      ]
     },
     "execution_count": 18,
     "metadata": {},
     "output_type": "execute_result"
    }
   ],
   "source": [
    "## hedged_avg_return\n",
    "hedge_avg_ret1 = linear_regressor_1.hedged_return(test_spy[\"Returns\"], test_appl[\"Returns\"])[3]\n",
    "hedge_avg_ret1"
   ]
  },
  {
   "cell_type": "code",
   "execution_count": 19,
   "metadata": {},
   "outputs": [
    {
     "name": "stdout",
     "output_type": "stream",
     "text": [
      "AAPL hedged returns: There are 63 returns. First=0.00, Last=0.00, Avg=-0.00\n"
     ]
    }
   ],
   "source": [
    "# Step 2: Report the results\n",
    "hedged_num_returns = hedge_num_ret1 # Number of returns in hedged series\n",
    "hedged_first_return = hedge_first_ret1 # The return on the earliest date in hedged series\n",
    "hedged_last_return  = hedge_last_ret1 # The return on the latest date in hedged series\n",
    "hedged_avg_return  = hedge_avg_ret1 # The average return over the hedged series\n",
    "\n",
    "ticker=\"AAPL\"\n",
    "print(\"{t:s} hedged returns: There are {num:d} returns. First={first:3.2f}, Last={last:3.2f}, Avg={avg:3.2f}\".format(t=ticker,\n",
    "                                                                                                                    num=hedged_num_returns,\n",
    "                                                                                                                    first=hedged_first_return, \n",
    "                                                                                                                    last=hedged_last_return, \n",
    "                                                                                                                    avg=hedged_avg_return))\n"
   ]
  },
  {
   "cell_type": "markdown",
   "metadata": {},
   "source": [
    "# $\\ba$ regression\n",
    "\n",
    "Repeat the regression you carried out for $\\aapl$ but this time instead for the ticker $\\ba$ (Boeing)\n",
    "\n",
    "**Motivation**\n",
    "\n",
    "The idea is to encourage you to build re-usable pieces of code.\n",
    "\n",
    "So if you created some functions in solving Part 1, you may reuse these functions to easily solve part 2,\n",
    "particulary if you treated the ticker (e.g., $\\aapl$ or $\\ba$) as a parameter to your functions.\n",
    "\n",
    "If you simply copy and paste the code from Part 1 you will only get partial credit.\n"
   ]
  },
  {
   "cell_type": "markdown",
   "metadata": {},
   "source": [
    "**Question**\n",
    "Replace the 0 values in the following cell with your answers, and execute the print statements"
   ]
  },
  {
   "cell_type": "code",
   "execution_count": 20,
   "metadata": {},
   "outputs": [],
   "source": [
    "# Step 1: Import the BA dataset\n",
    "BA = ReadData('BA.csv')\n",
    "ba_returns = BA.returns()\n",
    "ba_returns_specific = BA.specific_period()\n",
    "\n",
    "ba_split = SplitData(ba_returns_specific)\n",
    "train_ba, test_ba = ba_split.data_split()\n"
   ]
  },
  {
   "cell_type": "code",
   "execution_count": 21,
   "metadata": {},
   "outputs": [
    {
     "data": {
      "text/plain": [
       "0.38918615137510715"
      ]
     },
     "execution_count": 21,
     "metadata": {},
     "output_type": "execute_result"
    }
   ],
   "source": [
    "# Step 2: Get our results\n",
    "linear_regressor_2 = LinearRegressor(train_spy[[\"Returns\"]], train_ba[[\"Returns\"]])\n",
    "beta_const2, beta_spy2 = linear_regressor_2.linear_regression()\n",
    "scores_mean2 = linear_regressor_2.cross_val(5)\n",
    "scores_mean2\n"
   ]
  },
  {
   "cell_type": "code",
   "execution_count": 22,
   "metadata": {},
   "outputs": [
    {
     "name": "stdout",
     "output_type": "stream",
     "text": [
      "BA: beta_0=0.00, beta_SPY=1.36\n"
     ]
    }
   ],
   "source": [
    "beta_0 = float(beta_const2)    # The regression parameter for the constant\n",
    "beta_SPY = float(beta_spy2) # The regression parameter for the return of SPY\n",
    "ticker = \"BA\"\n",
    "\n",
    "print(\"{t:s}: beta_0={b0:3.2f}, beta_SPY={b1:3.2f}\".format(t=ticker, b0=beta_0, b1=beta_SPY))\n"
   ]
  },
  {
   "cell_type": "markdown",
   "metadata": {},
   "source": [
    "**Question**\n",
    "Replace the 0 values in the following cell with your answers, and execute the print statements"
   ]
  },
  {
   "cell_type": "code",
   "execution_count": 23,
   "metadata": {},
   "outputs": [
    {
     "name": "stdout",
     "output_type": "stream",
     "text": [
      "BA: Avg cross val score = 0.39\n"
     ]
    }
   ],
   "source": [
    "cross_val_avg = scores_mean2\n",
    "\n",
    "print(\"{t:s}: Avg cross val score = {sc:3.2f}\".format(t=ticker, sc=cross_val_avg) )"
   ]
  },
  {
   "cell_type": "markdown",
   "metadata": {},
   "source": [
    "**Question**\n",
    "Replace the 0 values in the following cell with your answers, and execute the print statements"
   ]
  },
  {
   "cell_type": "code",
   "execution_count": 24,
   "metadata": {},
   "outputs": [
    {
     "data": {
      "text/plain": [
       "63"
      ]
     },
     "execution_count": 24,
     "metadata": {},
     "output_type": "execute_result"
    }
   ],
   "source": [
    "# Step 1: Calculate the results and Take a look at them:\n",
    "## hedged_num_returns\n",
    "hedge_num_ret2 = linear_regressor_2.hedged_return(test_spy[\"Returns\"], test_ba[\"Returns\"])[0]\n",
    "hedge_num_ret2"
   ]
  },
  {
   "cell_type": "code",
   "execution_count": 25,
   "metadata": {},
   "outputs": [
    {
     "data": {
      "text/plain": [
       "0.02322779198835626"
      ]
     },
     "execution_count": 25,
     "metadata": {},
     "output_type": "execute_result"
    }
   ],
   "source": [
    "## hedged_first_return\n",
    "hedge_first_ret2 = float(linear_regressor_2.hedged_return(test_spy[\"Returns\"], test_ba[\"Returns\"])[1])\n",
    "hedge_first_ret2"
   ]
  },
  {
   "cell_type": "code",
   "execution_count": 26,
   "metadata": {},
   "outputs": [
    {
     "data": {
      "text/plain": [
       "0.007469624912801726"
      ]
     },
     "execution_count": 26,
     "metadata": {},
     "output_type": "execute_result"
    }
   ],
   "source": [
    "## hedged_last_return\n",
    "hedge_last_ret2 = float(linear_regressor_2.hedged_return(test_spy[\"Returns\"], test_ba[\"Returns\"])[2])\n",
    "hedge_last_ret2"
   ]
  },
  {
   "cell_type": "code",
   "execution_count": 27,
   "metadata": {},
   "outputs": [
    {
     "data": {
      "text/plain": [
       "0.0011384177847084645"
      ]
     },
     "execution_count": 27,
     "metadata": {},
     "output_type": "execute_result"
    }
   ],
   "source": [
    "## hedged_avg_return\n",
    "hedge_avg_ret2 = linear_regressor_2.hedged_return(test_spy[\"Returns\"], test_ba[\"Returns\"])[3]\n",
    "hedge_avg_ret2"
   ]
  },
  {
   "cell_type": "code",
   "execution_count": 28,
   "metadata": {},
   "outputs": [
    {
     "name": "stdout",
     "output_type": "stream",
     "text": [
      "BA hedged returns: There are 63 returns. First=0.02, Last=0.01, Avg=0.00\n"
     ]
    }
   ],
   "source": [
    "hedged_num_returns = hedge_num_ret2  # Number of returns in hedged series\n",
    "hedged_first_return = hedge_first_ret2 # The return on the earliest date in hedged series\n",
    "hedged_last_return  = hedge_last_ret2 # The return on the latest date in hedged series\n",
    "hedged_avg_return  = hedge_avg_ret2  # The average return over the hedged series\n",
    "\n",
    "ticker=\"BA\"\n",
    "print(\"{t:s} hedged returns: There are {num:d} returns. First={first:3.2f}, Last={last:3.2f}, Avg={avg:3.2f}\".format(t=ticker,\n",
    "                                                                                                                    num=hedged_num_returns,\n",
    "                                                                                                                    first=hedged_first_return, \n",
    "                                                                                                                    last=hedged_last_return, \n",
    "                                                                                                                    avg=hedged_avg_return))\n"
   ]
  },
  {
   "cell_type": "markdown",
   "metadata": {},
   "source": [
    "# Returns to prices\n",
    "\n",
    "- You have already computed the predicted returns of $\\aapl$ for each date in the test set.\n",
    "- Create the predicted *price* timeseries for $\\aapl$ for the date range in the test set\n",
    "- Plot (on the same graph) the actual price timeseries of $\\aapl$ and the predicted price timeseries.\n",
    "\n",
    "There is a particular reason that we choose to perform the Linear Regression on returns rather than prices.\n",
    "\n",
    "It is beyond the scope of this lecture to explain why, but we want to show that we can easily convert\n",
    "back into prices.\n",
    "\n",
    "**Question**\n",
    "Replace the 0 values in the following cell with your answers, and execute the print statements"
   ]
  },
  {
   "cell_type": "code",
   "execution_count": 29,
   "metadata": {},
   "outputs": [],
   "source": [
    "# Step 1: Define a variable calculating the predicted apple returns during the test period\n",
    "predicted_r = linear_regressor_1.predict(test_spy[[\"Returns\"]])\n"
   ]
  },
  {
   "cell_type": "code",
   "execution_count": 30,
   "metadata": {},
   "outputs": [],
   "source": [
    "# Step 2: Define a function transforming returns to prices\n",
    "\n",
    "def returns_to_price(predicted_r, train_label, test_label):\n",
    "    predicted_prices = [0 for i in range(len(predicted_r))]\n",
    "    predicted_prices[0] = train_label['Close'].iloc[-1]*(1 + predicted_r[0])\n",
    "    for i in range(1, len(predicted_r)):\n",
    "        predicted_prices[i] = predicted_prices[i - 1]* (1 + predicted_r[i])\n",
    "        \n",
    "    return predicted_prices"
   ]
  },
  {
   "cell_type": "code",
   "execution_count": 31,
   "metadata": {},
   "outputs": [],
   "source": [
    "# Step 3: Get the predicted prices according to the function defined by Step 2\n",
    "predicted_prices = returns_to_price(predicted_r, train_appl, test_appl)\n"
   ]
  },
  {
   "cell_type": "code",
   "execution_count": 32,
   "metadata": {},
   "outputs": [
    {
     "name": "stdout",
     "output_type": "stream",
     "text": [
      "AAPL predicted prices: There are 63 prices. First=226.83, Last=205.79, Avg=215.64\n"
     ]
    }
   ],
   "source": [
    "# Step 4: Report the results\n",
    "num_prices = len(predicted_prices)  # Number of prices in price series\n",
    "first_price = float(predicted_prices[0]) # The price on the earliest date in price series\n",
    "last_price  = float(predicted_prices[-1]) # The price on the latest date in price series\n",
    "avg_price  = float(sum(predicted_prices) / len(predicted_prices)) # The average price over the price series\n",
    "\n",
    "ticker=\"AAPL\"\n",
    "print(\"{t:s} predicted prices: There are {num:d} prices. First={first:3.2f}, Last={last:3.2f}, Avg={avg:3.2f}\".format(t=ticker,\n",
    "                                                                                                                    num=num_prices,\n",
    "                                                                                                                    first=first_price, \n",
    "                                                                                                                    last=last_price, \n",
    "                                                                                                                    avg=avg_price))\n",
    " "
   ]
  },
  {
   "cell_type": "code",
   "execution_count": 33,
   "metadata": {},
   "outputs": [
    {
     "name": "stderr",
     "output_type": "stream",
     "text": [
      "<ipython-input-33-b03317d85c59>:4: MatplotlibDeprecationWarning: The seaborn styles shipped by Matplotlib are deprecated since 3.6, as they no longer correspond to the styles shipped by seaborn. However, they will remain available as 'seaborn-v0_8-<style>'. Alternatively, directly use the seaborn API instead.\n",
      "  plt.style.use('seaborn')\n"
     ]
    },
    {
     "data": {
      "text/plain": [
       "<matplotlib.legend.Legend at 0x7f9070bb2dc0>"
      ]
     },
     "execution_count": 33,
     "metadata": {},
     "output_type": "execute_result"
    },
    {
     "data": {
      "image/png": "[encoded data removed]",
      "text/plain": [
       "<Figure size 432x288 with 1 Axes>"
      ]
     },
     "metadata": {
      "needs_background": "light"
     },
     "output_type": "display_data"
    }
   ],
   "source": [
    "# Step 5: Plot the graph on predicted apple against true apple price\n",
    "import matplotlib.pyplot as plt\n",
    "\n",
    "plt.style.use('seaborn')\n",
    "%matplotlib inline\n",
    "\n",
    "predicted_prices = pd.DataFrame(predicted_prices, columns = ['Apple_Predicted'], index = test_appl.index)\n",
    "plt.plot(predicted_prices, label = 'Predicted APPL')\n",
    "plt.plot(test_appl[['Close']], label = 'True APPL')\n",
    "plt.legend()\n"
   ]
  },
  {
   "cell_type": "markdown",
   "metadata": {},
   "source": [
    "# Extra credit\n",
    "\n",
    "The data directory has the prices of many other indices.\n",
    "- Any ticker in the directory beginning with the letter \"X\" is an index\n",
    "\n",
    "Choose *one* index (we'll call it $I$) other than $\\spy$ to use as a second feature and compute the Linear Regression\n",
    "\n",
    "$$\n",
    "\\ret_\\aapl^\\tp = \\beta^T \\x + \\epsilon_{\\aapl}^\\tp\n",
    "$$\n",
    "\n",
    "where $\\x$ is the feature vector\n",
    "  - $\\x^\\tp = \\begin{pmatrix}\n",
    "        1 \\\\\n",
    "        \\ret_\\spy^\\tp \\\\\n",
    "        \\ret_I^\\tp \\\\\n",
    "        \\end{pmatrix}$\n",
    "\n",
    "That is, predict the returns of $\\aapl$ in terms of a constant, the returns of $\\spy$ and the returns of another index $I$.\n",
    "\n",
    "**Question**\n",
    "There is no specified format.  Treat this like an interview question and show off your analytical\n",
    "and explanatory skills. Be sure to explain how you came about choosing the second index."
   ]
  },
  {
   "cell_type": "markdown",
   "metadata": {},
   "source": [
    "#### Step 1: We want to choose an appropriate feature (other than SPY) as our features\n",
    "\n",
    "According to the definition of all the avaliable dataset of indxes, `XLK`, Technology Select Sector SPDR Fund, provides exposure to Large Cap US Information Technology Equities. And we all know that APPL is a stock under S&P 500, and it in fact is under the technology sector. Moreover, if we search some of the componets inside `XLK`, we spot Apple Inc. here.\n",
    "\n",
    "Also, based on the definition of pther indexs, only the index \"XLK\" is the most reasonable choice to be included to predict the returns of apple `APPL` stock.\n"
   ]
  },
  {
   "cell_type": "code",
   "execution_count": 34,
   "metadata": {},
   "outputs": [],
   "source": [
    "# Step 2: Get our dataset for XLK index\n",
    "XLK = ReadData('XLK.csv')\n",
    "xlk_returns = XLK.returns()\n",
    "xlk_returns_specific = XLK.specific_period()\n",
    "xlk_split = SplitData(xlk_returns_specific)\n",
    "train_xlk, test_xlk = xlk_split.data_split()"
   ]
  },
  {
   "cell_type": "code",
   "execution_count": 35,
   "metadata": {},
   "outputs": [],
   "source": [
    "# Step 3: Train our model to get our predicted results\n",
    "def predicted_returns(train_x1, test_x1, train_x2, test_x2, y_train):\n",
    "    linear_regression = LinearRegression()\n",
    "    x_train = np.hstack((train_x1, train_x2))\n",
    "    x_test = np.hstack((test_x1, test_x2))\n",
    "    linear_regression.fit(x_train, y_train)\n",
    "    predicted_prices = linear_regression.predict(x_test)\n",
    "    \n",
    "    return predicted_prices\n",
    "  "
   ]
  },
  {
   "cell_type": "code",
   "execution_count": 36,
   "metadata": {},
   "outputs": [],
   "source": [
    "# Step 4: Get our predicted returns and prices based on the functions we have written so far\\\n",
    "new_predicted_returns = predicted_returns(train_spy[[\"Returns\"]], test_spy[[\"Returns\"]], \n",
    "                                         train_xlk[[\"Returns\"]], test_xlk[[\"Returns\"]], train_appl[[\"Returns\"]])\n",
    "new_predicted_prices = returns_to_price(new_predicted_returns, train_appl, test_appl)"
   ]
  },
  {
   "cell_type": "code",
   "execution_count": 37,
   "metadata": {},
   "outputs": [
    {
     "data": {
      "text/plain": [
       "<matplotlib.legend.Legend at 0x7f9081208b20>"
      ]
     },
     "execution_count": 37,
     "metadata": {},
     "output_type": "execute_result"
    },
    {
     "data": {
      "image/png": "[encoded data removed]",
      "text/plain": [
       "<Figure size 432x288 with 1 Axes>"
      ]
     },
     "metadata": {
      "needs_background": "light"
     },
     "output_type": "display_data"
    }
   ],
   "source": [
    "# Step 5: Plot our result\n",
    "predicted_prices = pd.DataFrame(new_predicted_prices, columns = ['New_Apple_Predicted'], index = test_appl.index)\n",
    "plt.plot(predicted_prices, label = 'New Predicted APPL')\n",
    "plt.plot(test_appl[['Close']], label = 'True APPL')\n",
    "plt.legend()"
   ]
  },
  {
   "cell_type": "markdown",
   "metadata": {},
   "source": [
    "As we can see, the prediction power drops significantly after the train dataset, which is the same case as the one with spy as covariate (feature) only. This is what we expect since we do not train the data for the test dataset. Also, it is worthwhile to mention that the prediction power of the linear regression model in this case increases compared with the previous case, when we only add the market covariate (feature) `SPY`. This fits what our expectation is as well since if we include additional useful covariates (features), the machine learning algorithm (in this case the linear regression model) will become better in prediction and/or classification tasks."
   ]
  },
  {
   "cell_type": "code",
   "execution_count": null,
   "metadata": {},
   "outputs": [],
   "source": []
  }
 ],
 "metadata": {
  "kernelspec": {
   "display_name": "Python 3",
   "language": "python",
   "name": "python3"
  },
  "language_info": {
   "codemirror_mode": {
    "name": "ipython",
    "version": 3
   },
   "file_extension": ".py",
   "mimetype": "text/x-python",
   "name": "python",
   "nbconvert_exporter": "python",
   "pygments_lexer": "ipython3",
   "version": "3.8.8"
  },
  "toc": {
   "base_numbering": 1,
   "nav_menu": {},
   "number_sections": true,
   "sideBar": true,
   "skip_h1_title": false,
   "title_cell": "Table of Contents",
   "title_sidebar": "Contents",
   "toc_cell": false,
   "toc_position": {
    "height": "calc(100% - 180px)",
    "left": "10px",
    "top": "150px",
    "width": "370.594px"
   },
   "toc_section_display": true,
   "toc_window_display": true
  }
 },
 "nbformat": 4,
 "nbformat_minor": 2
}
